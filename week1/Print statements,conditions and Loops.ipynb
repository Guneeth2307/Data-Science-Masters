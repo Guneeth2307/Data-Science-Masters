{
 "cells": [
  {
   "cell_type": "code",
   "execution_count": 1,
   "id": "921a6194-d810-447d-b677-d1029ee50fad",
   "metadata": {},
   "outputs": [
    {
     "data": {
      "text/plain": [
       "5"
      ]
     },
     "execution_count": 1,
     "metadata": {},
     "output_type": "execute_result"
    }
   ],
   "source": [
    "2+3\n"
   ]
  },
  {
   "cell_type": "code",
   "execution_count": 3,
   "id": "1e7e64cd-2d44-433b-abb2-2bf1271cc8b4",
   "metadata": {},
   "outputs": [
    {
     "name": "stdout",
     "output_type": "stream",
     "text": [
      "hi\n"
     ]
    }
   ],
   "source": [
    "print(\"hi\")\n"
   ]
  },
  {
   "cell_type": "markdown",
   "id": "ac89b205-bb63-40da-bdcd-4d3233ab0c76",
   "metadata": {},
   "source": [
    "PRINT statement"
   ]
  },
  {
   "cell_type": "code",
   "execution_count": 2,
   "id": "b90737b9-66f6-4213-a0e6-5d167b4e02c1",
   "metadata": {},
   "outputs": [
    {
     "name": "stdout",
     "output_type": "stream",
     "text": [
      "my name is guneeth and my age is 18\n"
     ]
    }
   ],
   "source": [
    "name=\"guneeth\"\n",
    "age =18\n",
    "print(\"my name is {} and my age is {}\".format(name,age))"
   ]
  },
  {
   "cell_type": "markdown",
   "id": "12a38f98-f8b3-41b7-a11d-4bd0a28d9141",
   "metadata": {},
   "source": [
    "if statement"
   ]
  },
  {
   "cell_type": "code",
   "execution_count": 8,
   "id": "93dab36c-501a-4daf-a772-b5df854254e2",
   "metadata": {},
   "outputs": [
    {
     "name": "stdin",
     "output_type": "stream",
     "text": [
      "enter your age 35\n"
     ]
    },
    {
     "name": "stdout",
     "output_type": "stream",
     "text": [
      "you are young blood\n"
     ]
    }
   ],
   "source": [
    "age=int(input(\"enter your age\"))\n",
    "if age>=18 and age<=35 :\n",
    "    print(\"you are young blood\")"
   ]
  },
  {
   "cell_type": "markdown",
   "id": "3e74b35e-6db8-4da3-8e8d-091cd8e3d12b",
   "metadata": {},
   "source": [
    "if,elif,else statements"
   ]
  },
  {
   "cell_type": "code",
   "execution_count": 5,
   "id": "a59abe4b-460b-4574-92ab-465d5cacc9df",
   "metadata": {},
   "outputs": [
    {
     "name": "stdin",
     "output_type": "stream",
     "text": [
      "please enter price 700\n"
     ]
    },
    {
     "name": "stdout",
     "output_type": "stream",
     "text": [
      "product price is 700 \n",
      " your discount is 20%\n"
     ]
    }
   ],
   "source": [
    "price=int(input(\"please enter price\"))\n",
    "if price>1000:\n",
    "    print(\"product price is {} \\n your discount is 10%\".format(price))\n",
    "elif price>500 and price<=1000:\n",
    "     print(\"product price is {} \\n your discount is 20%\".format(price))\n",
    "else:\n",
    "    print(\"product price is {} \\n your discount is 30%\".format(price))"
   ]
  },
  {
   "cell_type": "markdown",
   "id": "725683ce-6a2f-4c1e-a895-d10e99477384",
   "metadata": {},
   "source": [
    "LOOP STATEMENTS\n",
    "1)while\n",
    "2)for\n",
    "3)nested for\n",
    "4)loop contorl"
   ]
  },
  {
   "cell_type": "markdown",
   "id": "eba51535-6cce-46a1-9201-9aef7199761d",
   "metadata": {},
   "source": [
    "1)while loop"
   ]
  },
  {
   "cell_type": "code",
   "execution_count": 3,
   "id": "268dec56-7f72-4772-bd03-268df7f1ff60",
   "metadata": {},
   "outputs": [
    {
     "name": "stdout",
     "output_type": "stream",
     "text": [
      "age is 25\n",
      "\n",
      "age is 26\n",
      "\n",
      "age is 27\n",
      "\n",
      "age is 28\n",
      "\n",
      "age is 29\n",
      "\n",
      "age is 30\n",
      "\n",
      "age is 31\n",
      "\n",
      "age is 32\n",
      "\n",
      "age is 33\n",
      "\n",
      "age is 34\n",
      "\n",
      "age is 35\n",
      "\n",
      "you are not allowed to apply for Job\n"
     ]
    }
   ],
   "source": [
    "joining_age=25\n",
    "while joining_age<=35 :\n",
    "    print(\"age is {}\\n\".format(joining_age))\n",
    "    joining_age=joining_age + 1\n",
    "else :\n",
    "    print(\"you are not allowed to apply for Job\")"
   ]
  },
  {
   "cell_type": "markdown",
   "id": "1806b02c-5b2b-4ef8-9ec8-21e9ea7759b0",
   "metadata": {},
   "source": [
    "#for loop"
   ]
  },
  {
   "cell_type": "code",
   "execution_count": 8,
   "id": "56fc989a-8d46-4f99-b88e-9cfeb3be6a61",
   "metadata": {},
   "outputs": [
    {
     "name": "stdout",
     "output_type": "stream",
     "text": [
      "banana\n",
      "1\n",
      "2\n",
      "3\n",
      "4\n",
      "mango\n"
     ]
    }
   ],
   "source": [
    "list1=[\"banana\",1,2,3,4,\"mango\"]\n",
    "for x in list1:\n",
    "   print(x)\n"
   ]
  },
  {
   "cell_type": "code",
   "execution_count": 9,
   "id": "42d09ce0-ec1f-401d-879e-70a43c074cda",
   "metadata": {},
   "outputs": [
    {
     "name": "stdout",
     "output_type": "stream",
     "text": [
      "1\n",
      "2\n",
      "3\n",
      "4\n"
     ]
    }
   ],
   "source": [
    "for i in range(1,5):\n",
    " print(i)"
   ]
  },
  {
   "cell_type": "markdown",
   "id": "52a0a9ae-e044-4db3-8bde-78c784fd8acd",
   "metadata": {},
   "source": [
    "nested forloop"
   ]
  },
  {
   "cell_type": "code",
   "execution_count": 14,
   "id": "57cd4add-f7b8-469a-8d1a-885a45111318",
   "metadata": {},
   "outputs": [
    {
     "name": "stdout",
     "output_type": "stream",
     "text": [
      "*\n",
      "**\n",
      "***\n",
      "****\n",
      "*****\n",
      "******\n",
      "*******\n"
     ]
    }
   ],
   "source": [
    "n=7\n",
    "for i in range(0,7):\n",
    "    for j in range(0,i+1):\n",
    "        print(\"*\",end=\"\")\n",
    "    print(\"\\r\")\n",
    "        "
   ]
  },
  {
   "cell_type": "markdown",
   "id": "d85fed97-ee25-48a1-98c6-71d05b84dce1",
   "metadata": {},
   "source": [
    "Loop controls\n"
   ]
  },
  {
   "cell_type": "markdown",
   "id": "b85b4922-ed92-4238-a982-3f476c692705",
   "metadata": {},
   "source": [
    "break"
   ]
  },
  {
   "cell_type": "code",
   "execution_count": 24,
   "id": "f3cd9ac0-3bab-4ac6-8555-6e05b373a055",
   "metadata": {},
   "outputs": [
    {
     "name": "stdout",
     "output_type": "stream",
     "text": [
      "lion\n",
      "tiger\n",
      "1\n",
      "number is 2\n"
     ]
    }
   ],
   "source": [
    "list1=[\"lion\",\"tiger\",1,2,3]\n",
    "for i in list1:\n",
    "    if i==2:\n",
    "        print(\"number is 2\")\n",
    "        break\n",
    "    print(i)\n",
    "        "
   ]
  },
  {
   "cell_type": "markdown",
   "id": "4ff524ce-ca5c-4074-bf7a-9e23be963150",
   "metadata": {},
   "source": [
    "pass"
   ]
  },
  {
   "cell_type": "code",
   "execution_count": 25,
   "id": "be23c1b6-8be5-4749-800a-73e0041327aa",
   "metadata": {},
   "outputs": [
    {
     "name": "stdout",
     "output_type": "stream",
     "text": [
      "lion\n",
      "tiger\n",
      "1\n",
      "number is 2\n",
      "2\n",
      "3\n"
     ]
    }
   ],
   "source": [
    "list1=[\"lion\",\"tiger\",1,2,3]\n",
    "for i in list1:\n",
    "    if i==2:\n",
    "        print(\"number is 2\")\n",
    "        pass\n",
    "    print(i)\n",
    "        "
   ]
  },
  {
   "cell_type": "markdown",
   "id": "1bd8bb97-6b89-4389-9a48-0df38831c61b",
   "metadata": {},
   "source": [
    "continue"
   ]
  },
  {
   "cell_type": "code",
   "execution_count": 26,
   "id": "a3ebd660-cfff-46d3-988e-f909bd74cc0f",
   "metadata": {},
   "outputs": [
    {
     "name": "stdout",
     "output_type": "stream",
     "text": [
      "lion\n",
      "tiger\n",
      "1\n",
      "number is 2\n",
      "3\n"
     ]
    }
   ],
   "source": [
    "list1=[\"lion\",\"tiger\",1,2,3]\n",
    "for i in list1:\n",
    "    if i==2:\n",
    "        print(\"number is 2\")\n",
    "        continue\n",
    "    print(i)\n",
    "        "
   ]
  },
  {
   "cell_type": "code",
   "execution_count": null,
   "id": "8259403b-31ab-4eb4-b9bf-bbc45331344c",
   "metadata": {},
   "outputs": [],
   "source": []
  }
 ],
 "metadata": {
  "kernelspec": {
   "display_name": "Python 3 (ipykernel)",
   "language": "python",
   "name": "python3"
  },
  "language_info": {
   "codemirror_mode": {
    "name": "ipython",
    "version": 3
   },
   "file_extension": ".py",
   "mimetype": "text/x-python",
   "name": "python",
   "nbconvert_exporter": "python",
   "pygments_lexer": "ipython3",
   "version": "3.10.8"
  }
 },
 "nbformat": 4,
 "nbformat_minor": 5
}
